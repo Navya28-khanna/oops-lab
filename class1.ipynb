{
 "cells": [
  {
   "cell_type": "code",
   "execution_count": 6,
   "id": "f3b6783c-7c1c-455d-9fd8-ca9f1240454a",
   "metadata": {},
   "outputs": [],
   "source": [
    "def print_ka_dummy(str):\n",
    "    print(str)\n",
    "\n"
   ]
  },
  {
   "cell_type": "code",
   "execution_count": 7,
   "id": "32c5b697-df8b-4254-8cc4-12a2b4222901",
   "metadata": {},
   "outputs": [
    {
     "name": "stdout",
     "output_type": "stream",
     "text": [
      "hellp!!\n"
     ]
    }
   ],
   "source": [
    "print_ka_dummy(\"hellp!!\")"
   ]
  },
  {
   "cell_type": "code",
   "execution_count": null,
   "id": "0fa05752-d213-4bad-9132-790e7c7c6761",
   "metadata": {},
   "outputs": [],
   "source": []
  }
 ],
 "metadata": {
  "kernelspec": {
   "display_name": "Python 3 (ipykernel)",
   "language": "python",
   "name": "python3"
  },
  "language_info": {
   "codemirror_mode": {
    "name": "ipython",
    "version": 3
   },
   "file_extension": ".py",
   "mimetype": "text/x-python",
   "name": "python",
   "nbconvert_exporter": "python",
   "pygments_lexer": "ipython3",
   "version": "3.12.3"
  }
 },
 "nbformat": 4,
 "nbformat_minor": 5
}
