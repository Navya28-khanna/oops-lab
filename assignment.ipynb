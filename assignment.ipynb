{
 "cells": [
  {
   "cell_type": "code",
   "execution_count": 1,
   "id": "4a304943-4954-4798-b8a3-f61072472872",
   "metadata": {},
   "outputs": [
    {
     "name": "stdout",
     "output_type": "stream",
     "text": [
      "hello\n"
     ]
    }
   ],
   "source": [
    "print(\"hello\")"
   ]
  },
  {
   "cell_type": "code",
   "execution_count": 2,
   "id": "a80ac2b2-b6da-461f-9088-207abe943641",
   "metadata": {},
   "outputs": [
    {
     "name": "stdin",
     "output_type": "stream",
     "text": [
      "Enter a number:  7\n"
     ]
    },
    {
     "name": "stdout",
     "output_type": "stream",
     "text": [
      "7 is not an even number.\n"
     ]
    }
   ],
   "source": [
    "# Function to check if the number is even\n",
    "def is_even(number):\n",
    "    if number % 2 == 0:\n",
    "        return f\"{number} is an even number.\"\n",
    "    else:\n",
    "        return f\"{number} is not an even number.\"\n",
    "\n",
    "# Input from the user\n",
    "number = int(input(\"Enter a number: \"))\n",
    "\n",
    "# Output result\n",
    "print(is_even(number))"
   ]
  },
  {
   "cell_type": "code",
   "execution_count": 3,
   "id": "b6ca47bd-17bd-4dd9-b33a-a41415bf1842",
   "metadata": {},
   "outputs": [
    {
     "name": "stdin",
     "output_type": "stream",
     "text": [
      "Enter a number:  4\n"
     ]
    },
    {
     "name": "stdout",
     "output_type": "stream",
     "text": [
      "The factorial of 4 is 24.\n"
     ]
    }
   ],
   "source": [
    "# Function to calculate factorial\n",
    "def factorial(number):\n",
    "    if number == 0 or number == 1:\n",
    "        return 1\n",
    "    else:\n",
    "        return number * factorial(number - 1)\n",
    "\n",
    "# Input from the user\n",
    "number = int(input(\"Enter a number: \"))\n",
    "\n",
    "# Output result\n",
    "print(f\"The factorial of {number} is {factorial(number)}.\")"
   ]
  },
  {
   "cell_type": "code",
   "execution_count": 4,
   "id": "1ae7db43-4bb9-4809-9c31-bfeabf9ad593",
   "metadata": {},
   "outputs": [
    {
     "name": "stdout",
     "output_type": "stream",
     "text": [
      "Prime numbers below 100 are:\n",
      "2 3 5 7 11 13 17 19 23 29 31 37 41 43 47 53 59 61 67 71 73 79 83 89 97 "
     ]
    }
   ],
   "source": [
    "# Function to check if a number is prime\n",
    "def is_prime(num):\n",
    "    if num < 2:\n",
    "        return False\n",
    "    for i in range(2, int(num ** 0.5) + 1):\n",
    "        if num % i == 0:\n",
    "            return False\n",
    "    return True\n",
    "\n",
    "# Loop to print prime numbers below 100\n",
    "print(\"Prime numbers below 100 are:\")\n",
    "for number in range(2, 100):\n",
    "    if is_prime(number):\n",
    "        print(number, end=\" \")"
   ]
  },
  {
   "cell_type": "code",
   "execution_count": 5,
   "id": "4ac1ef83-424f-42e8-b2a6-a6fdf7426736",
   "metadata": {},
   "outputs": [
    {
     "name": "stdin",
     "output_type": "stream",
     "text": [
      "Enter a string:  navyakhanna\n"
     ]
    },
    {
     "name": "stdout",
     "output_type": "stream",
     "text": [
      "Character count in the string is: {'n': 3, 'a': 4, 'v': 1, 'y': 1, 'k': 1, 'h': 1}\n"
     ]
    }
   ],
   "source": [
    "# Function to count characters in a string\n",
    "def count_characters(string):\n",
    "    char_count = {}\n",
    "    \n",
    "    for char in string:\n",
    "        if char in char_count:\n",
    "            char_count[char] += 1\n",
    "        else:\n",
    "            char_count[char] = 1\n",
    "            \n",
    "    return char_count\n",
    "\n",
    "# Input from the user\n",
    "string = input(\"Enter a string: \")\n",
    "\n",
    "# Output result\n",
    "char_count = count_characters(string)\n",
    "print(\"Character count in the string is:\", char_count)"
   ]
  },
  {
   "cell_type": "code",
   "execution_count": 8,
   "id": "3a01b962-17f8-4c28-bf70-110dfb01a596",
   "metadata": {},
   "outputs": [
    {
     "name": "stdin",
     "output_type": "stream",
     "text": [
      "Enter a name to find the birthday:  Bob\n"
     ]
    },
    {
     "name": "stdout",
     "output_type": "stream",
     "text": [
      "Current birthday records: John: 12-05-1990; Alice: 23-08-1992; Bob: 15-11-1985\n",
      "Bob's birthday is on 15-11-1985.\n"
     ]
    }
   ],
   "source": [
    "# Function to trace a birthday from the dictionary\n",
    "def find_birthday(name, birthday_dict):\n",
    "    if name in birthday_dict:\n",
    "        return f\"{name}'s birthday is on {birthday_dict[name]}.\"\n",
    "    else:\n",
    "        return f\"Sorry, birthday for {name} not found.\"\n",
    "\n",
    "# Input birthday data as a string and split it\n",
    "birthday_data = \"John:12-05-1990, Alice:23-08-1992, Bob:15-11-1985\"\n",
    "birthday_list = birthday_data.split(\", \")\n",
    "\n",
    "# Convert the list into a dictionary\n",
    "birthday_dict = {}\n",
    "for entry in birthday_list:\n",
    "    name, birthday = entry.split(\":\")\n",
    "    birthday_dict[name] = birthday\n",
    "\n",
    "# Input name to search for a birthday\n",
    "name = input(\"Enter a name to find the birthday: \")\n",
    "\n",
    "# Use join method to display the dictionary in a readable format\n",
    "birthday_str = \"; \".join([f\"{key}: {value}\" for key, value in birthday_dict.items()])\n",
    "print(f\"Current birthday records: {birthday_str}\")\n",
    "\n",
    "# Output result\n",
    "print(find_birthday(name, birthday_dict))"
   ]
  },
  {
   "cell_type": "code",
   "execution_count": 9,
   "id": "801695dd-57d2-4308-b582-a5dd5efb8223",
   "metadata": {},
   "outputs": [
    {
     "name": "stdin",
     "output_type": "stream",
     "text": [
      "Enter a name to find the birthday:  navya\n"
     ]
    },
    {
     "name": "stdout",
     "output_type": "stream",
     "text": [
      "Current birthday records: John: 12-05-1990; Alice: 23-08-1992; Bob: 15-11-1985\n",
      "Sorry, birthday for navya not found.\n"
     ]
    }
   ],
   "source": [
    "# Function to trace a birthday from the dictionary\n",
    "def find_birthday(name, birthday_dict):\n",
    "    if name in birthday_dict:\n",
    "        return f\"{name}'s birthday is on {birthday_dict[name]}.\"\n",
    "    else:\n",
    "        return f\"Sorry, birthday for {name} not found.\"\n",
    "\n",
    "# Input birthday data as a string and split it\n",
    "birthday_data = \"John:12-05-1990, Alice:23-08-1992, Bob:15-11-1985\"\n",
    "birthday_list = birthday_data.split(\", \")\n",
    "\n",
    "# Convert the list into a dictionary\n",
    "birthday_dict = {}\n",
    "for entry in birthday_list:\n",
    "    name, birthday = entry.split(\":\")\n",
    "    birthday_dict[name] = birthday\n",
    "\n",
    "# Input name to search for a birthday\n",
    "name = input(\"Enter a name to find the birthday: \")\n",
    "\n",
    "# Use join method to display the dictionary in a readable format\n",
    "birthday_str = \"; \".join([f\"{key}: {value}\" for key, value in birthday_dict.items()])\n",
    "print(f\"Current birthday records: {birthday_str}\")\n",
    "\n",
    "# Output result\n",
    "print(find_birthday(name, birthday_dict))"
   ]
  },
  {
   "cell_type": "code",
   "execution_count": null,
   "id": "3ce9a34a-63c9-4d48-9243-9919fd39afc0",
   "metadata": {},
   "outputs": [],
   "source": []
  }
 ],
 "metadata": {
  "kernelspec": {
   "display_name": "Python 3 (ipykernel)",
   "language": "python",
   "name": "python3"
  },
  "language_info": {
   "codemirror_mode": {
    "name": "ipython",
    "version": 3
   },
   "file_extension": ".py",
   "mimetype": "text/x-python",
   "name": "python",
   "nbconvert_exporter": "python",
   "pygments_lexer": "ipython3",
   "version": "3.12.3"
  }
 },
 "nbformat": 4,
 "nbformat_minor": 5
}
