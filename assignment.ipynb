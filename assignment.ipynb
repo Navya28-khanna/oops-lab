{
 "cells": [
  {
   "cell_type": "code",
   "execution_count": 1,
   "id": "4a304943-4954-4798-b8a3-f61072472872",
   "metadata": {},
   "outputs": [
    {
     "name": "stdout",
     "output_type": "stream",
     "text": [
      "hello\n"
     ]
    }
   ],
   "source": [
    "print(\"hello\")"
   ]
  },
  {
   "cell_type": "code",
   "execution_count": 2,
   "id": "a80ac2b2-b6da-461f-9088-207abe943641",
   "metadata": {},
   "outputs": [
    {
     "name": "stdin",
     "output_type": "stream",
     "text": [
      "Enter a number:  7\n"
     ]
    },
    {
     "name": "stdout",
     "output_type": "stream",
     "text": [
      "7 is not an even number.\n"
     ]
    }
   ],
   "source": [
    "# Function to check if the number is even\n",
    "def is_even(number):\n",
    "    if number % 2 == 0:\n",
    "        return f\"{number} is an even number.\"\n",
    "    else:\n",
    "        return f\"{number} is not an even number.\"\n",
    "\n",
    "# Input from the user\n",
    "number = int(input(\"Enter a number: \"))\n",
    "\n",
    "# Output result\n",
    "print(is_even(number))"
   ]
  },
  {
   "cell_type": "code",
   "execution_count": 3,
   "id": "b6ca47bd-17bd-4dd9-b33a-a41415bf1842",
   "metadata": {},
   "outputs": [
    {
     "name": "stdin",
     "output_type": "stream",
     "text": [
      "Enter a number:  4\n"
     ]
    },
    {
     "name": "stdout",
     "output_type": "stream",
     "text": [
      "The factorial of 4 is 24.\n"
     ]
    }
   ],
   "source": [
    "# Function to calculate factorial\n",
    "def factorial(number):\n",
    "    if number == 0 or number == 1:\n",
    "        return 1\n",
    "    else:\n",
    "        return number * factorial(number - 1)\n",
    "\n",
    "# Input from the user\n",
    "number = int(input(\"Enter a number: \"))\n",
    "\n",
    "# Output result\n",
    "print(f\"The factorial of {number} is {factorial(number)}.\")"
   ]
  },
  {
   "cell_type": "code",
   "execution_count": 4,
   "id": "1ae7db43-4bb9-4809-9c31-bfeabf9ad593",
   "metadata": {},
   "outputs": [
    {
     "name": "stdout",
     "output_type": "stream",
     "text": [
      "Prime numbers below 100 are:\n",
      "2 3 5 7 11 13 17 19 23 29 31 37 41 43 47 53 59 61 67 71 73 79 83 89 97 "
     ]
    }
   ],
   "source": [
    "# Function to check if a number is prime\n",
    "def is_prime(num):\n",
    "    if num < 2:\n",
    "        return False\n",
    "    for i in range(2, int(num ** 0.5) + 1):\n",
    "        if num % i == 0:\n",
    "            return False\n",
    "    return True\n",
    "\n",
    "# Loop to print prime numbers below 100\n",
    "print(\"Prime numbers below 100 are:\")\n",
    "for number in range(2, 100):\n",
    "    if is_prime(number):\n",
    "        print(number, end=\" \")"
   ]
  },
  {
   "cell_type": "code",
   "execution_count": 5,
   "id": "4ac1ef83-424f-42e8-b2a6-a6fdf7426736",
   "metadata": {},
   "outputs": [
    {
     "name": "stdin",
     "output_type": "stream",
     "text": [
      "Enter a string:  navyakhanna\n"
     ]
    },
    {
     "name": "stdout",
     "output_type": "stream",
     "text": [
      "Character count in the string is: {'n': 3, 'a': 4, 'v': 1, 'y': 1, 'k': 1, 'h': 1}\n"
     ]
    }
   ],
   "source": [
    "# Function to count characters in a string\n",
    "def count_characters(string):\n",
    "    char_count = {}\n",
    "    \n",
    "    for char in string:\n",
    "        if char in char_count:\n",
    "            char_count[char] += 1\n",
    "        else:\n",
    "            char_count[char] = 1\n",
    "            \n",
    "    return char_count\n",
    "\n",
    "# Input from the user\n",
    "string = input(\"Enter a string: \")\n",
    "\n",
    "# Output result\n",
    "char_count = count_characters(string)\n",
    "print(\"Character count in the string is:\", char_count)"
   ]
  },
  {
   "cell_type": "code",
   "execution_count": 8,
   "id": "3a01b962-17f8-4c28-bf70-110dfb01a596",
   "metadata": {},
   "outputs": [
    {
     "name": "stdin",
     "output_type": "stream",
     "text": [
      "Enter a name to find the birthday:  Bob\n"
     ]
    },
    {
     "name": "stdout",
     "output_type": "stream",
     "text": [
      "Current birthday records: John: 12-05-1990; Alice: 23-08-1992; Bob: 15-11-1985\n",
      "Bob's birthday is on 15-11-1985.\n"
     ]
    }
   ],
   "source": [
    "# Function to trace a birthday from the dictionary\n",
    "def find_birthday(name, birthday_dict):\n",
    "    if name in birthday_dict:\n",
    "        return f\"{name}'s birthday is on {birthday_dict[name]}.\"\n",
    "    else:\n",
    "        return f\"Sorry, birthday for {name} not found.\"\n",
    "\n",
    "# Input birthday data as a string and split it\n",
    "birthday_data = \"John:12-05-1990, Alice:23-08-1992, Bob:15-11-1985\"\n",
    "birthday_list = birthday_data.split(\", \")\n",
    "\n",
    "# Convert the list into a dictionary\n",
    "birthday_dict = {}\n",
    "for entry in birthday_list:\n",
    "    name, birthday = entry.split(\":\")\n",
    "    birthday_dict[name] = birthday\n",
    "\n",
    "# Input name to search for a birthday\n",
    "name = input(\"Enter a name to find the birthday: \")\n",
    "\n",
    "# Use join method to display the dictionary in a readable format\n",
    "birthday_str = \"; \".join([f\"{key}: {value}\" for key, value in birthday_dict.items()])\n",
    "print(f\"Current birthday records: {birthday_str}\")\n",
    "\n",
    "# Output result\n",
    "print(find_birthday(name, birthday_dict))"
   ]
  },
  {
   "cell_type": "code",
   "execution_count": 9,
   "id": "801695dd-57d2-4308-b582-a5dd5efb8223",
   "metadata": {},
   "outputs": [
    {
     "name": "stdin",
     "output_type": "stream",
     "text": [
      "Enter a name to find the birthday:  navya\n"
     ]
    },
    {
     "name": "stdout",
     "output_type": "stream",
     "text": [
      "Current birthday records: John: 12-05-1990; Alice: 23-08-1992; Bob: 15-11-1985\n",
      "Sorry, birthday for navya not found.\n"
     ]
    }
   ],
   "source": [
    "# Function to trace a birthday from the dictionary\n",
    "def find_birthday(name, birthday_dict):\n",
    "    if name in birthday_dict:\n",
    "        return f\"{name}'s birthday is on {birthday_dict[name]}.\"\n",
    "    else:\n",
    "        return f\"Sorry, birthday for {name} not found.\"\n",
    "\n",
    "# Input birthday data as a string and split it\n",
    "birthday_data = \"John:12-05-1990, Alice:23-08-1992, Bob:15-11-1985\"\n",
    "birthday_list = birthday_data.split(\", \")\n",
    "\n",
    "# Convert the list into a dictionary\n",
    "birthday_dict = {}\n",
    "for entry in birthday_list:\n",
    "    name, birthday = entry.split(\":\")\n",
    "    birthday_dict[name] = birthday\n",
    "\n",
    "# Input name to search for a birthday\n",
    "name = input(\"Enter a name to find the birthday: \")\n",
    "\n",
    "# Use join method to display the dictionary in a readable format\n",
    "birthday_str = \"; \".join([f\"{key}: {value}\" for key, value in birthday_dict.items()])\n",
    "print(f\"Current birthday records: {birthday_str}\")\n",
    "\n",
    "# Output result\n",
    "print(find_birthday(name, birthday_dict))"
   ]
  },
  {
   "cell_type": "code",
   "execution_count": 10,
   "id": "3ce9a34a-63c9-4d48-9243-9919fd39afc0",
   "metadata": {},
   "outputs": [
    {
     "name": "stdin",
     "output_type": "stream",
     "text": [
      "Enter numbers separated by spaces:  2 5 3 6 8 9\n"
     ]
    },
    {
     "name": "stdout",
     "output_type": "stream",
     "text": [
      "Mean: 5.5\n",
      "Median: 5.5\n",
      "Mode: 2\n"
     ]
    }
   ],
   "source": [
    "from statistics import mean, median, mode\n",
    "\n",
    "# Function to calculate mean, median, and mode\n",
    "def calculate_stats(numbers):\n",
    "    try:\n",
    "        mean_value = mean(numbers)\n",
    "        median_value = median(numbers)\n",
    "        mode_value = mode(numbers)\n",
    "        \n",
    "        return mean_value, median_value, mode_value\n",
    "    except:\n",
    "        return \"Error calculating mode (mode may not exist or be ambiguous).\"\n",
    "\n",
    "# Input list of numbers\n",
    "numbers = list(map(int, input(\"Enter numbers separated by spaces: \").split()))\n",
    "\n",
    "# Calculating and displaying the results\n",
    "mean_value, median_value, mode_value = calculate_stats(numbers)\n",
    "\n",
    "print(f\"Mean: {mean_value}\")\n",
    "print(f\"Median: {median_value}\")\n",
    "print(f\"Mode: {mode_value}\")"
   ]
  },
  {
   "cell_type": "code",
   "execution_count": 12,
   "id": "cd4b55d1-08ec-4bf7-b112-4a7f377faf78",
   "metadata": {},
   "outputs": [
    {
     "name": "stdin",
     "output_type": "stream",
     "text": [
      "Enter numbers separated by spaces:  2 3 5 7 9 1 2 0 0\n"
     ]
    },
    {
     "name": "stdout",
     "output_type": "stream",
     "text": [
      "Duplicate numbers in the list: [2, 0]\n"
     ]
    }
   ],
   "source": [
    "# Function to find duplicates in a list\n",
    "def dups(numbers):\n",
    "    duplicates = []\n",
    "    seen = set()\n",
    "    \n",
    "    for num in numbers:\n",
    "        if num in seen and num not in duplicates:\n",
    "            duplicates.append(num)\n",
    "        else:\n",
    "            seen.add(num)\n",
    "    \n",
    "    return duplicates\n",
    "\n",
    "# Input list of numbers\n",
    "numbers = list(map(int, input(\"Enter numbers separated by spaces: \").split()))\n",
    "\n",
    "# Finding and displaying the duplicates\n",
    "duplicates = dups(numbers)\n",
    "\n",
    "if duplicates:\n",
    "    print(f\"Duplicate numbers in the list: {duplicates}\")\n",
    "else:\n",
    "    print(\"No duplicates found in the list.\")"
   ]
  },
  {
   "cell_type": "code",
   "execution_count": 14,
   "id": "4ba351e8-2e75-46c1-9871-3b3b3c0e7d83",
   "metadata": {},
   "outputs": [
    {
     "name": "stdout",
     "output_type": "stream",
     "text": [
      "Resultant matrix after addition:\n",
      "[10, 4, 10]\n",
      "[10, 10, 11]\n",
      "[7, 9, 10]\n"
     ]
    }
   ],
   "source": [
    "# Function to add two matrices\n",
    "def add_matrices(matrix1, matrix2):\n",
    "    # Get the dimension of the matrix (assuming square matrices)\n",
    "    size = len(matrix1)\n",
    "    \n",
    "    # Initialize the result matrix with zeros\n",
    "    result = [[0 for _ in range(size)] for _ in range(size)]\n",
    "    \n",
    "    # Add corresponding elements from both matrices\n",
    "    for i in range(size):\n",
    "        for j in range(size):\n",
    "            result[i][j] = matrix1[i][j] + matrix2[i][j]\n",
    "    \n",
    "    return result\n",
    "\n",
    "# Input: First square matrix\n",
    "matrix1 = [\n",
    "    [1, 2, 3],\n",
    "    [4, 5, 6],\n",
    "    [7, 8, 9]\n",
    "]\n",
    "\n",
    "# Input: Second square matrix\n",
    "matrix2 = [\n",
    "    [9, 2, 7],\n",
    "    [6, 5, 5],\n",
    "    [0, 1, 1]\n",
    "]\n",
    "\n",
    "# Adding the two matrices\n",
    "result_matrix = add_matrices(matrix1, matrix2)\n",
    "\n",
    "# Displaying the result\n",
    "print(\"Resultant matrix after addition:\")\n",
    "for row in result_matrix:\n",
    "    print(row)"
   ]
  },
  {
   "cell_type": "code",
   "execution_count": 15,
   "id": "c2c7dcd5-2122-468c-9ca3-9437b6a5adc4",
   "metadata": {},
   "outputs": [
    {
     "name": "stdout",
     "output_type": "stream",
     "text": [
      "Resultant matrix after multiplication:\n",
      "[30, 24, 18]\n",
      "[84, 69, 54]\n",
      "[138, 114, 90]\n"
     ]
    }
   ],
   "source": [
    "# Function to multiply two matrices\n",
    "def multiply_matrices(matrix1, matrix2):\n",
    "    # Get the number of rows and columns for matrix1 and matrix2\n",
    "    rows_matrix1 = len(matrix1)\n",
    "    cols_matrix1 = len(matrix1[0])\n",
    "    rows_matrix2 = len(matrix2)\n",
    "    cols_matrix2 = len(matrix2[0])\n",
    "\n",
    "    # Check if matrices can be multiplied (number of columns in matrix1 == number of rows in matrix2)\n",
    "    if cols_matrix1 != rows_matrix2:\n",
    "        return \"Matrices cannot be multiplied due to incompatible dimensions.\"\n",
    "\n",
    "    # Initialize the result matrix with zeros\n",
    "    result = [[0 for _ in range(cols_matrix2)] for _ in range(rows_matrix1)]\n",
    "\n",
    "    # Perform matrix multiplication\n",
    "    for i in range(rows_matrix1):\n",
    "        for j in range(cols_matrix2):\n",
    "            for k in range(cols_matrix1):\n",
    "                result[i][j] += matrix1[i][k] * matrix2[k][j]\n",
    "    \n",
    "    return result\n",
    "\n",
    "# Input: First matrix\n",
    "matrix1 = [\n",
    "    [1, 2, 3],\n",
    "    [4, 5, 6],\n",
    "    [7, 8, 9]\n",
    "]\n",
    "\n",
    "# Input: Second matrix\n",
    "matrix2 = [\n",
    "    [9, 8, 7],\n",
    "    [6, 5, 4],\n",
    "    [3, 2, 1]\n",
    "]\n",
    "\n",
    "# Multiplying the two matrices\n",
    "result_matrix = multiply_matrices(matrix1, matrix2)\n",
    "\n",
    "# Displaying the result\n",
    "print(\"Resultant matrix after multiplication:\")\n",
    "if isinstance(result_matrix, list):  # Check if result_matrix is a valid matrix\n",
    "    for row in result_matrix:\n",
    "        print(row)\n",
    "else:\n",
    "    print(result_matrix)  # In case of error (incompatible matrices)"
   ]
  },
  {
   "cell_type": "code",
   "execution_count": 16,
   "id": "9005d023-a23d-4fe1-bb47-900fe2e70287",
   "metadata": {},
   "outputs": [
    {
     "name": "stdin",
     "output_type": "stream",
     "text": [
      "Enter distinct integers separated by spaces:  23 66 73 11 4 98\n"
     ]
    },
    {
     "name": "stdout",
     "output_type": "stream",
     "text": [
      "All possible unique subsets:\n",
      "[]\n",
      "[23]\n",
      "[23, 66]\n",
      "[23, 66, 73]\n",
      "[23, 66, 73, 11]\n",
      "[23, 66, 73, 11, 4]\n",
      "[23, 66, 73, 11, 4, 98]\n",
      "[23, 66, 73, 11, 98]\n",
      "[23, 66, 73, 4]\n",
      "[23, 66, 73, 4, 98]\n",
      "[23, 66, 73, 98]\n",
      "[23, 66, 11]\n",
      "[23, 66, 11, 4]\n",
      "[23, 66, 11, 4, 98]\n",
      "[23, 66, 11, 98]\n",
      "[23, 66, 4]\n",
      "[23, 66, 4, 98]\n",
      "[23, 66, 98]\n",
      "[23, 73]\n",
      "[23, 73, 11]\n",
      "[23, 73, 11, 4]\n",
      "[23, 73, 11, 4, 98]\n",
      "[23, 73, 11, 98]\n",
      "[23, 73, 4]\n",
      "[23, 73, 4, 98]\n",
      "[23, 73, 98]\n",
      "[23, 11]\n",
      "[23, 11, 4]\n",
      "[23, 11, 4, 98]\n",
      "[23, 11, 98]\n",
      "[23, 4]\n",
      "[23, 4, 98]\n",
      "[23, 98]\n",
      "[66]\n",
      "[66, 73]\n",
      "[66, 73, 11]\n",
      "[66, 73, 11, 4]\n",
      "[66, 73, 11, 4, 98]\n",
      "[66, 73, 11, 98]\n",
      "[66, 73, 4]\n",
      "[66, 73, 4, 98]\n",
      "[66, 73, 98]\n",
      "[66, 11]\n",
      "[66, 11, 4]\n",
      "[66, 11, 4, 98]\n",
      "[66, 11, 98]\n",
      "[66, 4]\n",
      "[66, 4, 98]\n",
      "[66, 98]\n",
      "[73]\n",
      "[73, 11]\n",
      "[73, 11, 4]\n",
      "[73, 11, 4, 98]\n",
      "[73, 11, 98]\n",
      "[73, 4]\n",
      "[73, 4, 98]\n",
      "[73, 98]\n",
      "[11]\n",
      "[11, 4]\n",
      "[11, 4, 98]\n",
      "[11, 98]\n",
      "[4]\n",
      "[4, 98]\n",
      "[98]\n"
     ]
    }
   ],
   "source": [
    "def subsets(nums):\n",
    "    result = []\n",
    "\n",
    "    def backtrack(start, path):\n",
    "        # Add the current subset (path) to the result\n",
    "        result.append(path)\n",
    "        for i in range(start, len(nums)):\n",
    "            # Recursively generate subsets with the current element included\n",
    "            backtrack(i + 1, path + [nums[i]])\n",
    "\n",
    "    # Start the backtracking process\n",
    "    backtrack(0, [])\n",
    "    return result\n",
    "\n",
    "# Input: Set of distinct integers\n",
    "nums = list(map(int, input(\"Enter distinct integers separated by spaces: \").split()))\n",
    "\n",
    "# Get all unique subsets\n",
    "all_subsets = subsets(nums)\n",
    "\n",
    "# Display the result\n",
    "print(\"All possible unique subsets:\")\n",
    "for subset in all_subsets:\n",
    "    print(subset)"
   ]
  },
  {
   "cell_type": "code",
   "execution_count": null,
   "id": "2a606909-9ded-4ca7-a866-ee1e59336fb5",
   "metadata": {},
   "outputs": [],
   "source": []
  }
 ],
 "metadata": {
  "kernelspec": {
   "display_name": "Python 3 (ipykernel)",
   "language": "python",
   "name": "python3"
  },
  "language_info": {
   "codemirror_mode": {
    "name": "ipython",
    "version": 3
   },
   "file_extension": ".py",
   "mimetype": "text/x-python",
   "name": "python",
   "nbconvert_exporter": "python",
   "pygments_lexer": "ipython3",
   "version": "3.12.3"
  }
 },
 "nbformat": 4,
 "nbformat_minor": 5
}
